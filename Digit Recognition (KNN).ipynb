{
  "nbformat": 4,
  "nbformat_minor": 0,
  "metadata": {
    "colab": {
      "provenance": []
    },
    "kernelspec": {
      "name": "python3",
      "display_name": "Python 3"
    },
    "language_info": {
      "name": "python"
    }
  },
  "cells": [
    {
      "cell_type": "code",
      "execution_count": null,
      "metadata": {
        "id": "I1JffKeL2W25"
      },
      "outputs": [],
      "source": [
        "import numpy as np\n",
        "#import pandas as pd\n",
        "import matplotlib.pyplot as plt\n",
        "from sklearn.datasets import fetch_openml\n",
        "from sklearn.metrics import confusion_matrix, accuracy_score\n",
        "from collections import Counter\n",
        "import time"
      ]
    },
    {
      "cell_type": "code",
      "source": [
        "#df=pd.read_csv('/content/mnist_train.csv')"
      ],
      "metadata": {
        "id": "8ZTFjy8YF-Rx"
      },
      "execution_count": null,
      "outputs": []
    },
    {
      "cell_type": "code",
      "source": [
        "mnist=fetch_openml('mnist_784')"
      ],
      "metadata": {
        "id": "NTlW5lf8F-Uu"
      },
      "execution_count": null,
      "outputs": []
    },
    {
      "cell_type": "code",
      "source": [
        "#mnist"
      ],
      "metadata": {
        "id": "LCDHusk3F-Xs"
      },
      "execution_count": null,
      "outputs": []
    },
    {
      "cell_type": "code",
      "source": [
        "x=mnist['data'].to_numpy()\n",
        "y=mnist['target'].astype(int).to_numpy()"
      ],
      "metadata": {
        "id": "XVyLEEC-F-aZ"
      },
      "execution_count": null,
      "outputs": []
    },
    {
      "cell_type": "code",
      "source": [
        "y"
      ],
      "metadata": {
        "id": "bKcp1dgEF-dQ",
        "colab": {
          "base_uri": "https://localhost:8080/"
        },
        "outputId": "07d9e8d3-0b80-4292-d895-b4d70d31fbc8"
      },
      "execution_count": null,
      "outputs": [
        {
          "output_type": "execute_result",
          "data": {
            "text/plain": [
              "array([5, 0, 4, ..., 4, 5, 6])"
            ]
          },
          "metadata": {},
          "execution_count": 142
        }
      ]
    },
    {
      "cell_type": "code",
      "source": [
        "x.shape"
      ],
      "metadata": {
        "id": "ovVFpfgEF-g6",
        "colab": {
          "base_uri": "https://localhost:8080/"
        },
        "outputId": "1322ec1c-680f-4722-8658-6298aa861ae4"
      },
      "execution_count": null,
      "outputs": [
        {
          "output_type": "execute_result",
          "data": {
            "text/plain": [
              "(70000, 784)"
            ]
          },
          "metadata": {},
          "execution_count": 143
        }
      ]
    },
    {
      "cell_type": "code",
      "source": [
        "y.shape"
      ],
      "metadata": {
        "id": "Wq9vtKK1LNID",
        "colab": {
          "base_uri": "https://localhost:8080/"
        },
        "outputId": "a36c0ccf-64b6-4a38-d31e-98ef01154d9c"
      },
      "execution_count": null,
      "outputs": [
        {
          "output_type": "execute_result",
          "data": {
            "text/plain": [
              "(70000,)"
            ]
          },
          "metadata": {},
          "execution_count": 144
        }
      ]
    },
    {
      "cell_type": "code",
      "source": [
        "%matplotlib inline"
      ],
      "metadata": {
        "id": "hHplETH_LNK7"
      },
      "execution_count": null,
      "outputs": []
    },
    {
      "cell_type": "code",
      "source": [
        "dig=x[25000]\n",
        "img=dig.reshape(28,28)\n",
        "\n",
        "fig, axes = plt.subplots(1, 3, figsize=(10, 4))\n",
        "\n",
        "axes[0].imshow(img)\n",
        "axes[0].set_title(f\"Digit: {y[25000]}\")\n",
        "\n",
        "\n",
        "\n",
        "dig2=x[39000]\n",
        "img2=dig2.reshape(28,28)\n",
        "axes[1].imshow(img2)\n",
        "axes[1].set_title(f\"Label: {y[39000]}\")\n",
        "\n",
        "\n",
        "\n",
        "dig3 = x[15000]\n",
        "img3 = dig3.reshape(28, 28)\n",
        "axes[2].imshow(img3)\n",
        "axes[2].set_title(f\"Label: {y[15000]}\")\n",
        "\n",
        "\n",
        "plt.show()\n",
        "\n",
        "plt.tight_layout()"
      ],
      "metadata": {
        "id": "lOIguHLILNO2",
        "colab": {
          "base_uri": "https://localhost:8080/",
          "height": 327
        },
        "outputId": "33f4f4fe-6dc2-454f-9ccc-9adf0639a171"
      },
      "execution_count": null,
      "outputs": [
        {
          "output_type": "display_data",
          "data": {
            "text/plain": [
              "<Figure size 1000x400 with 3 Axes>"
            ],
            "image/png": "[encoded data removed]"
          },
          "metadata": {}
        },
        {
          "output_type": "display_data",
          "data": {
            "text/plain": [
              "<Figure size 640x480 with 0 Axes>"
            ]
          },
          "metadata": {}
        }
      ]
    },
    {
      "cell_type": "code",
      "source": [
        "print(y[25000])"
      ],
      "metadata": {
        "id": "-TicguQ_LNRx",
        "colab": {
          "base_uri": "https://localhost:8080/"
        },
        "outputId": "11498c19-fe33-4c32-b84b-dd016aa85935"
      },
      "execution_count": null,
      "outputs": [
        {
          "output_type": "stream",
          "name": "stdout",
          "text": [
            "3\n"
          ]
        }
      ]
    },
    {
      "cell_type": "code",
      "source": [
        "## Normalize\n",
        "\n",
        "x = x / 255\n"
      ],
      "metadata": {
        "id": "nPwx6ugTLNVX"
      },
      "execution_count": null,
      "outputs": []
    },
    {
      "cell_type": "code",
      "source": [
        "mnist.keys()"
      ],
      "metadata": {
        "id": "5l120X14Fofp",
        "colab": {
          "base_uri": "https://localhost:8080/"
        },
        "outputId": "52116c05-8884-46a5-dcb2-88a5f4be328d"
      },
      "execution_count": null,
      "outputs": [
        {
          "output_type": "execute_result",
          "data": {
            "text/plain": [
              "dict_keys(['data', 'target', 'frame', 'categories', 'feature_names', 'target_names', 'DESCR', 'details', 'url'])"
            ]
          },
          "metadata": {},
          "execution_count": 149
        }
      ]
    },
    {
      "cell_type": "code",
      "source": [
        "\n",
        "mnist.data.shape"
      ],
      "metadata": {
        "id": "CGbza-SeFoir",
        "colab": {
          "base_uri": "https://localhost:8080/"
        },
        "outputId": "7d87ae7f-72e2-41e7-a8b8-5f395013ba0f"
      },
      "execution_count": null,
      "outputs": [
        {
          "data": {
            "text/plain": [
              "(70000, 784)"
            ]
          },
          "execution_count": 150,
          "metadata": {},
          "output_type": "execute_result"
        }
      ]
    },
    {
      "cell_type": "code",
      "source": [
        "np.unique(mnist.target)"
      ],
      "metadata": {
        "id": "3aL4YlALFol0",
        "colab": {
          "base_uri": "https://localhost:8080/"
        },
        "outputId": "b8d7ac2f-1fa0-48a5-ac55-7017c7210353"
      },
      "execution_count": null,
      "outputs": [
        {
          "data": {
            "text/plain": [
              "array(['0', '1', '2', '3', '4', '5', '6', '7', '8', '9'], dtype=object)"
            ]
          },
          "execution_count": 151,
          "metadata": {},
          "output_type": "execute_result"
        }
      ]
    },
    {
      "cell_type": "code",
      "source": [
        "from sklearn.model_selection import train_test_split\n",
        "\n",
        "#60% train, 40% temp\n",
        "x_train, x_temp, y_train, y_temp = train_test_split(x, y, test_size=0.4, random_state=42)\n",
        "\n",
        "\n",
        "\n",
        "x_val, x_test, y_val, y_test = train_test_split(x_temp, y_temp, test_size=0.5, random_state=42)\n"
      ],
      "metadata": {
        "id": "V8TZhkmEujZ_"
      },
      "execution_count": null,
      "outputs": []
    },
    {
      "cell_type": "code",
      "source": [
        "from collections import Counter\n",
        "from sklearn.metrics import accuracy_score\n",
        "\n",
        "\n",
        "def euclidean_distance(train_data, test_sample):\n",
        "    return np.sqrt(np.sum((train_data - test_sample) ** 2, axis=1))\n",
        "\n",
        "\n",
        "def predict_one(x_train, y_train, test_sample, k):\n",
        "    distances = euclidean_distance(x_train, test_sample)\n",
        "    k_indices = np.argsort(distances)[:k]\n",
        "    k_labels = y_train[k_indices]\n",
        "    return Counter(k_labels).most_common(1)[0][0]\n",
        "\n",
        "\n",
        "def predict(x_train, y_train, x_test, k):\n",
        "    return np.array([predict_one(x_train, y_train, x, k) for x in x_test])\n",
        "\n",
        "\n",
        "def score(y_true, y_pred):\n",
        "    return accuracy_score(y_true, y_pred)\n"
      ],
      "metadata": {
        "id": "toi2_faGuuRJ"
      },
      "execution_count": null,
      "outputs": []
    },
    {
      "cell_type": "code",
      "source": [],
      "metadata": {
        "id": "Z6LUIA4O_SOT",
        "colab": {
          "base_uri": "https://localhost:8080/"
        },
        "outputId": "71db4d94-e596-4ace-a5cb-2124926200cb"
      },
      "execution_count": null,
      "outputs": [
        {
          "metadata": {
            "tags": null
          },
          "name": "stdout",
          "output_type": "stream",
          "text": [
            "k=1, Accuracy without PCA=0.9696\n",
            "k=3, Accuracy without PCA=0.9709\n",
            "k=5, Accuracy without PCA=0.9689\n",
            "k=7, Accuracy without PCA=0.9666\n",
            "k=9, Accuracy without PCA=0.9666\n"
          ]
        }
      ]
    },
    {
      "cell_type": "code",
      "source": [
        "import matplotlib.pyplot as plt\n",
        "\n",
        "k_values = list(range(1, 16, 2))\n",
        "val_accuracies = []\n",
        "\n",
        "# Using smaller subset for speed\n",
        "x_train_small = x_train[:2000]\n",
        "y_train_small = y_train[:2000]\n",
        "x_val_small = x_val[:500]\n",
        "y_val_small = y_val[:500]\n",
        "\n",
        "for k in k_values:\n",
        "    y_pred = predict(x_train_small, y_train_small, x_val_small, k)\n",
        "    acc = score(y_val_small, y_pred)\n",
        "    print(f\"k={k}, Accuracy without PCA={acc:.4f}\")\n",
        "    val_accuracies.append(acc)\n"
      ],
      "metadata": {
        "id": "DNMoq8WCug2A",
        "colab": {
          "base_uri": "https://localhost:8080/"
        },
        "outputId": "415ec0ea-1834-44a4-8c48-753aca04a9a9"
      },
      "execution_count": null,
      "outputs": [
        {
          "output_type": "stream",
          "name": "stdout",
          "text": [
            "k=1, Accuracy without PCA=0.9220\n",
            "k=3, Accuracy without PCA=0.9240\n",
            "k=5, Accuracy without PCA=0.9140\n",
            "k=7, Accuracy without PCA=0.9060\n",
            "k=9, Accuracy without PCA=0.9040\n",
            "k=11, Accuracy without PCA=0.9000\n",
            "k=13, Accuracy without PCA=0.9020\n",
            "k=15, Accuracy without PCA=0.8940\n"
          ]
        }
      ]
    },
    {
      "cell_type": "code",
      "source": [],
      "metadata": {
        "id": "D3s5PcBoFooL"
      },
      "execution_count": null,
      "outputs": []
    },
    {
      "cell_type": "markdown",
      "source": [
        "***After Applying PCA***"
      ],
      "metadata": {
        "id": "4T_DIvfgG2-y"
      }
    },
    {
      "cell_type": "code",
      "source": [
        "##########3333333"
      ],
      "metadata": {
        "id": "p4yF_QvJwS8r"
      },
      "execution_count": null,
      "outputs": []
    },
    {
      "cell_type": "code",
      "source": [
        "x_pca, components, k_used, var_explained = manual_pca(x, 0.90)\n"
      ],
      "metadata": {
        "id": "1CJJ4h_m6NWB"
      },
      "execution_count": null,
      "outputs": []
    },
    {
      "cell_type": "code",
      "source": [
        "from sklearn.model_selection import train_test_split\n",
        "\n",
        "\n",
        "x_centered = x - np.mean(x, axis=0)\n",
        "\n",
        "cov_matrix = np.cov(x_centered, rowvar=False)\n",
        "\n",
        "\n",
        "eig_vals, eig_vecs = np.linalg.eigh(cov_matrix)\n",
        "\n",
        "# Sort eigen in descending order\n",
        "sorted_indices = np.argsort(eig_vals)[::-1]\n",
        "eig_vals_sorted = eig_vals[sorted_indices]\n",
        "eig_vecs_sorted = eig_vecs[:, sorted_indices]\n",
        "\n",
        "\n",
        "# retain 95% variance\n",
        "explained_variance_ratio = np.cumsum(eig_vals_sorted) / np.sum(eig_vals_sorted)\n",
        "num_components = np.where(explained_variance_ratio >= 0.95)[0][0] + 1\n",
        "\n",
        "print(f\"Retaining {num_components} components \")\n",
        "\n",
        "\n",
        "# top eigenvectors\n",
        "principal_components = eig_vecs_sorted[:, :num_components]\n",
        "\n",
        "\n",
        "x_pca = np.dot(x_centered, principal_components)\n"
      ],
      "metadata": {
        "id": "JLyayLsrwS_L",
        "colab": {
          "base_uri": "https://localhost:8080/"
        },
        "outputId": "09b8e2fb-1381-4c1d-d38a-b33a8aa3a7d6"
      },
      "execution_count": null,
      "outputs": [
        {
          "output_type": "stream",
          "name": "stdout",
          "text": [
            "Retaining 154 components \n"
          ]
        }
      ]
    },
    {
      "cell_type": "code",
      "source": [],
      "metadata": {
        "id": "3_Cq6O475BVV"
      },
      "execution_count": null,
      "outputs": []
    },
    {
      "cell_type": "code",
      "source": [],
      "metadata": {
        "id": "ce-Cpu3V5BX2"
      },
      "execution_count": null,
      "outputs": []
    },
    {
      "cell_type": "code",
      "source": [],
      "metadata": {
        "colab": {
          "base_uri": "https://localhost:8080/"
        },
        "id": "N8nz8CMp5Bac",
        "outputId": "20bc24e1-2899-4878-d354-21592e26fbbb"
      },
      "execution_count": null,
      "outputs": [
        {
          "output_type": "stream",
          "name": "stdout",
          "text": [
            "k=1, Validation Accuracy=0.9725\n",
            "k=3, Validation Accuracy=0.9751\n",
            "k=5, Validation Accuracy=0.9736\n",
            "k=7, Validation Accuracy=0.9729\n",
            "k=9, Validation Accuracy=0.9715\n",
            "k=11, Validation Accuracy=0.9705\n",
            "k=13, Validation Accuracy=0.9695\n",
            "k=15, Validation Accuracy=0.9680\n"
          ]
        }
      ]
    },
    {
      "cell_type": "code",
      "source": [],
      "metadata": {
        "id": "FwLX3FdT5BeA"
      },
      "execution_count": null,
      "outputs": []
    },
    {
      "cell_type": "code",
      "source": [
        "# Train-validation-test split using reduced data\n",
        "x_train_pca, x_temp_pca, y_train_pca, y_temp_pca = train_test_split(x_pca, y, test_size=0.4, random_state=42)\n",
        "x_val_pca, x_test_pca, y_val_pca, y_test_pca = train_test_split(x_temp_pca, y_temp_pca, test_size=0.5, random_state=42)\n"
      ],
      "metadata": {
        "id": "O0P48A_dwTB0"
      },
      "execution_count": null,
      "outputs": []
    },
    {
      "cell_type": "code",
      "source": [],
      "metadata": {
        "id": "WHql92S-5SJJ"
      },
      "execution_count": null,
      "outputs": []
    },
    {
      "cell_type": "code",
      "source": [],
      "metadata": {
        "id": "EKs8xuFe5SMn"
      },
      "execution_count": null,
      "outputs": []
    },
    {
      "cell_type": "code",
      "source": [],
      "metadata": {
        "id": "EheBUJGe5Sdr"
      },
      "execution_count": null,
      "outputs": []
    },
    {
      "cell_type": "code",
      "source": [
        "import matplotlib.pyplot as plt\n",
        "\n",
        "k_values = list(range(1, 16, 2))\n",
        "val_accuracies = []\n",
        "\n",
        "# Using subset for speed\n",
        "x_train_small_pca = x_train_pca[:2000]\n",
        "y_train_small_pca = y_train_pca[:2000]\n",
        "x_val_small_pca = x_val_pca[:500]\n",
        "y_val_small_pca = y_val_pca[:500]\n",
        "\n",
        "for k in k_values:\n",
        "    y_pred = predict(x_train_small_pca, y_train_small_pca, x_val_small_pca, k)\n",
        "    acc = score(y_val_small_pca, y_pred)\n",
        "    print(f\"k={k}, Accuracy after PCA={acc:.4f}\")\n",
        "    val_accuracies.append(acc)"
      ],
      "metadata": {
        "id": "qCoeHAmewTEe",
        "colab": {
          "base_uri": "https://localhost:8080/"
        },
        "outputId": "05c3aca6-ed1d-4216-fb80-1e7e8d218985"
      },
      "execution_count": null,
      "outputs": [
        {
          "output_type": "stream",
          "name": "stdout",
          "text": [
            "k=1, Validation Accuracy=0.9260\n",
            "k=3, Validation Accuracy=0.9260\n",
            "k=5, Validation Accuracy=0.9180\n",
            "k=7, Validation Accuracy=0.9180\n",
            "k=9, Validation Accuracy=0.9160\n",
            "k=11, Validation Accuracy=0.9100\n",
            "k=13, Validation Accuracy=0.9080\n",
            "k=15, Validation Accuracy=0.9060\n"
          ]
        }
      ]
    },
    {
      "cell_type": "code",
      "source": [
        "for i in range(5):\n",
        "    plt.imshow(x_test[i].reshape(28, 28), cmap='gray')\n",
        "    plt.title(f\"Predicted: {y_test_pred[i]}, Actual: {y_test[i]}\")\n",
        "    plt.axis('off')\n",
        "    plt.show()\n"
      ],
      "metadata": {
        "id": "bKVA7UCLwTHP"
      },
      "execution_count": null,
      "outputs": []
    },
    {
      "cell_type": "code",
      "source": [
        "# Step 7: 3D Plot\n",
        "from mpl_toolkits.mplot3d import Axes3D\n",
        "import matplotlib.pyplot as plt\n",
        "\n",
        "fig = plt.figure(figsize=(10, 7))\n",
        "ax = fig.add_subplot(111, projection='3d')\n",
        "scatter = ax.scatter(X_reduced[:, 0], X_reduced[:, 1], X_reduced[:, 2], c=y, cmap='tab10', s=8)\n",
        "\n",
        "legend = ax.legend(*scatter.legend_elements(), title=\"Digits\", loc=\"best\")\n",
        "ax.add_artist(legend)\n",
        "\n",
        "ax.set_title(\"3D PCA Projection of MNIST\")\n",
        "plt.show()"
      ],
      "metadata": {
        "id": "K8JEL7pYwTKJ"
      },
      "execution_count": null,
      "outputs": []
    },
    {
      "cell_type": "code",
      "source": [],
      "metadata": {
        "id": "qbxRXjVF36Kk"
      },
      "execution_count": null,
      "outputs": []
    },
    {
      "cell_type": "code",
      "source": [
        "plt.figure(figsize=(8, 5))\n",
        "plt.plot(k_values, val_accuracies, marker='o', linestyle='--', color='green')\n",
        "plt.title(\"Accuracy vs. k\")\n",
        "plt.xlabel(\"k \")\n",
        "plt.ylabel(\"Accuracy\")\n",
        "plt.grid(True)\n",
        "plt.show()\n",
        "\n",
        "\n",
        "#At k = 3, the graph peaks with the highest accuracy (~92.4%).\n",
        "#As k increases (5, 7, 9, etc.), the accuracy steadily decreases.\n",
        "\n"
      ],
      "metadata": {
        "id": "yUo7G-x74F-Z",
        "colab": {
          "base_uri": "https://localhost:8080/",
          "height": 487
        },
        "outputId": "01913d95-d01f-4d9e-f816-eead328cced7"
      },
      "execution_count": null,
      "outputs": [
        {
          "output_type": "display_data",
          "data": {
            "text/plain": [
              "<Figure size 800x500 with 1 Axes>"
            ],
            "image/png": "[encoded data removed]"
          },
          "metadata": {}
        }
      ]
    },
    {
      "cell_type": "code",
      "source": [
        "from sklearn.metrics import confusion_matrix, classification_report\n",
        "\n",
        "\n",
        "kk = 10\n",
        "\n",
        "#using smaller data set cuz larger set takes longer time\n",
        "x_train_best = x_train[:2000]\n",
        "y_train_best = y_train[:2000]\n",
        "x_test_small = x_test[:500]\n",
        "y_test_small = y_test[:500]\n",
        "\n",
        "\n",
        "y_test_pred = predict(x_train_best, y_train_best, x_test_small, kk)\n",
        "\n",
        "\n",
        "cm = confusion_matrix(y_test_small, y_test_pred)\n",
        "print(\"Confusion Matrix:\\n\", cm)\n",
        "\n",
        "\n",
        "report = classification_report(y_test_small, y_test_pred)\n",
        "print(\"\\nClassification Report:\\n\", report)\n"
      ],
      "metadata": {
        "id": "zPcKs5F_4GBk",
        "colab": {
          "base_uri": "https://localhost:8080/"
        },
        "outputId": "247de494-e271-421a-c346-24a26808abd5"
      },
      "execution_count": null,
      "outputs": [
        {
          "output_type": "stream",
          "name": "stdout",
          "text": [
            "Confusion Matrix:\n",
            " [[44  0  0  0  0  1  0  0  0  0]\n",
            " [ 0 70  0  0  0  0  0  0  0  0]\n",
            " [ 0  7 37  0  0  0  0  1  1  1]\n",
            " [ 0  1  0 49  0  0  0  2  2  0]\n",
            " [ 0  1  0  0 25  0  0  0  0  3]\n",
            " [ 0  1  0  5  0 48  2  0  0  3]\n",
            " [ 1  0  0  0  0  0 40  0  0  0]\n",
            " [ 0  4  1  0  0  0  0 44  0  0]\n",
            " [ 0  2  0  1  0  1  0  1 46  1]\n",
            " [ 1  1  0  0  1  0  0  1  0 50]]\n",
            "\n",
            "Classification Report:\n",
            "               precision    recall  f1-score   support\n",
            "\n",
            "           0       0.96      0.98      0.97        45\n",
            "           1       0.80      1.00      0.89        70\n",
            "           2       0.97      0.79      0.87        47\n",
            "           3       0.89      0.91      0.90        54\n",
            "           4       0.96      0.86      0.91        29\n",
            "           5       0.96      0.81      0.88        59\n",
            "           6       0.95      0.98      0.96        41\n",
            "           7       0.90      0.90      0.90        49\n",
            "           8       0.94      0.88      0.91        52\n",
            "           9       0.86      0.93      0.89        54\n",
            "\n",
            "    accuracy                           0.91       500\n",
            "   macro avg       0.92      0.90      0.91       500\n",
            "weighted avg       0.91      0.91      0.91       500\n",
            "\n"
          ]
        }
      ]
    },
    {
      "cell_type": "code",
      "source": [],
      "metadata": {
        "id": "LtEPVIUZ4GED"
      },
      "execution_count": null,
      "outputs": []
    },
    {
      "cell_type": "code",
      "source": [],
      "metadata": {
        "id": "ulhemSV24GHc"
      },
      "execution_count": null,
      "outputs": []
    },
    {
      "cell_type": "code",
      "source": [],
      "metadata": {
        "id": "tHj3nhlj9Afj"
      },
      "execution_count": null,
      "outputs": []
    },
    {
      "cell_type": "code",
      "source": [],
      "metadata": {
        "id": "wEkvdwzpOUXw"
      },
      "execution_count": null,
      "outputs": []
    },
    {
      "cell_type": "code",
      "source": [],
      "metadata": {
        "id": "gNLeaXo_lCAB"
      },
      "execution_count": null,
      "outputs": []
    },
    {
      "cell_type": "code",
      "source": [],
      "metadata": {
        "id": "IcJeZMEnOUam",
        "colab": {
          "base_uri": "https://localhost:8080/"
        },
        "outputId": "d18a7f83-8d81-4a08-a52e-fa2c1769ad9e"
      },
      "execution_count": null,
      "outputs": [
        {
          "output_type": "stream",
          "name": "stdout",
          "text": [
            "k=1, Validation Accuracy=0.9180\n",
            "k=3, Validation Accuracy=0.9300\n",
            "k=5, Validation Accuracy=0.9140\n",
            "k=7, Validation Accuracy=0.9120\n",
            "k=9, Validation Accuracy=0.9060\n",
            "k=11, Validation Accuracy=0.9020\n",
            "k=13, Validation Accuracy=0.9040\n",
            "k=15, Validation Accuracy=0.9000\n"
          ]
        }
      ]
    },
    {
      "cell_type": "code",
      "source": [],
      "metadata": {
        "id": "3HrE1FS5OUd0"
      },
      "execution_count": null,
      "outputs": []
    },
    {
      "cell_type": "code",
      "source": [],
      "metadata": {
        "id": "SUg_v1k9OUgj"
      },
      "execution_count": null,
      "outputs": []
    },
    {
      "cell_type": "code",
      "source": [],
      "metadata": {
        "id": "_lwypWoqOUj6"
      },
      "execution_count": null,
      "outputs": []
    },
    {
      "cell_type": "code",
      "source": [],
      "metadata": {
        "id": "L6iM9kolOUqh"
      },
      "execution_count": null,
      "outputs": []
    },
    {
      "cell_type": "code",
      "source": [],
      "metadata": {
        "id": "eke6bIPq3Ol5"
      },
      "execution_count": null,
      "outputs": []
    },
    {
      "cell_type": "code",
      "source": [],
      "metadata": {
        "id": "G6WnTKh93V06"
      },
      "execution_count": null,
      "outputs": []
    }
  ]
}